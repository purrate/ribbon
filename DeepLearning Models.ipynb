{
 "cells": [
  {
   "cell_type": "code",
   "execution_count": null,
   "metadata": {
    "id": "F3eZAfrTJCko"
   },
   "outputs": [],
   "source": [
    "# i have used different deep learning models with different embedding of words "
   ]
  },
  {
   "cell_type": "code",
   "execution_count": 11,
   "metadata": {
    "id": "OQYR_oC7xgmd"
   },
   "outputs": [],
   "source": [
    "import numpy as np\n",
    "import pandas as pd"
   ]
  },
  {
   "cell_type": "code",
   "execution_count": 13,
   "metadata": {
    "id": "eE7_gs6-p-i7"
   },
   "outputs": [],
   "source": [
    "import sys, os, re, csv, codecs\n",
    "import tensorflow as tf\n",
    "from tensorflow.keras.preprocessing.text import Tokenizer\n",
    "from tensorflow.keras.preprocessing.sequence import pad_sequences\n",
    "from tensorflow.keras.layers import Dense, Input, LSTM, Embedding, Conv1D, concatenate, Flatten, Concatenate\n",
    "from tensorflow.keras.layers import  BatchNormalization, Dropout, Activation, SpatialDropout1D, MaxPooling1D, GlobalAveragePooling1D, GlobalMaxPooling1D\n",
    "from tensorflow.keras.layers import Bidirectional, GlobalMaxPool1D\n",
    "from tensorflow.keras.models import Model\n",
    "from tensorflow.keras import initializers, regularizers, constraints, optimizers, layers"
   ]
  },
  {
   "cell_type": "code",
   "execution_count": 16,
   "metadata": {
    "id": "--tESdKXqJLr"
   },
   "outputs": [
    {
     "name": "stdout",
     "output_type": "stream",
     "text": [
      "Collecting scikit-learn\n",
      "  Downloading scikit_learn-1.4.1.post1-cp311-cp311-macosx_12_0_arm64.whl.metadata (11 kB)\n",
      "Requirement already satisfied: numpy<2.0,>=1.19.5 in ./venv/lib/python3.11/site-packages (from scikit-learn) (1.26.4)\n",
      "Requirement already satisfied: scipy>=1.6.0 in ./venv/lib/python3.11/site-packages (from scikit-learn) (1.12.0)\n",
      "Requirement already satisfied: joblib>=1.2.0 in ./venv/lib/python3.11/site-packages (from scikit-learn) (1.3.2)\n",
      "Collecting threadpoolctl>=2.0.0 (from scikit-learn)\n",
      "  Downloading threadpoolctl-3.3.0-py3-none-any.whl.metadata (13 kB)\n",
      "Downloading scikit_learn-1.4.1.post1-cp311-cp311-macosx_12_0_arm64.whl (10.4 MB)\n",
      "\u001b[2K   \u001b[38;2;114;156;31m━━━━━━━━━━━━━━━━━━━━━━━━━━━━━━━━━━━━━━━━\u001b[0m \u001b[32m10.4/10.4 MB\u001b[0m \u001b[31m4.0 MB/s\u001b[0m eta \u001b[36m0:00:00\u001b[0mm eta \u001b[36m0:00:01\u001b[0m[36m0:00:01\u001b[0m\n",
      "\u001b[?25hDownloading threadpoolctl-3.3.0-py3-none-any.whl (17 kB)\n",
      "Installing collected packages: threadpoolctl, scikit-learn\n",
      "Successfully installed scikit-learn-1.4.1.post1 threadpoolctl-3.3.0\n"
     ]
    }
   ],
   "source": [
    "!pip install scikit-learn\n",
    "from sklearn.metrics import hamming_loss\n",
    "from sklearn.metrics import recall_score\n",
    "from sklearn.metrics import precision_score\n",
    "from sklearn.metrics import f1_score"
   ]
  },
  {
   "cell_type": "code",
   "execution_count": 18,
   "metadata": {
    "id": "TZFRknVEx56U"
   },
   "outputs": [],
   "source": [
    "multi_train = pd.read_csv('train.csv')\n",
    "\n",
    "multi_validation = pd.read_csv('dev.csv')\n",
    "\n",
    "multi_test = pd.read_csv('test.csv')"
   ]
  },
  {
   "cell_type": "code",
   "execution_count": 19,
   "metadata": {
    "id": "U3OuTBFhx58X"
   },
   "outputs": [],
   "source": [
    "# change the column names\n",
    "multi_train.rename(columns={\"Ogling/Facial Expressions/Staring\": \"Staring\", \"Touching /Groping\": \"Touching\"}, inplace=True)\n",
    "multi_validation.rename(columns={\"Ogling/Facial Expressions/Staring\": \"Staring\", \"Touching /Groping\": \"Touching\"},inplace=True)\n",
    "multi_test.rename(columns={\"Ogling/Facial Expressions/Staring\": \"Staring\", \"Touching /Groping\": \"Touching\"},inplace=True)"
   ]
  },
  {
   "cell_type": "code",
   "execution_count": 20,
   "metadata": {
    "colab": {
     "base_uri": "https://localhost:8080/",
     "height": 204
    },
    "executionInfo": {
     "elapsed": 50,
     "status": "ok",
     "timestamp": 1623161198710,
     "user": {
      "displayName": "Bhavesh Naidu",
      "photoUrl": "https://lh3.googleusercontent.com/a-/AOh14GhFnpKa-dO8FNoommFXj18z6YN49btxU7vagrqs=s64",
      "userId": "16718863442283687806"
     },
     "user_tz": -330
    },
    "id": "jS0gzb3mx5-e",
    "outputId": "42b1189f-c1f3-4560-89dc-f1b70b0455c7"
   },
   "outputs": [
    {
     "data": {
      "text/html": [
       "<div>\n",
       "<style scoped>\n",
       "    .dataframe tbody tr th:only-of-type {\n",
       "        vertical-align: middle;\n",
       "    }\n",
       "\n",
       "    .dataframe tbody tr th {\n",
       "        vertical-align: top;\n",
       "    }\n",
       "\n",
       "    .dataframe thead th {\n",
       "        text-align: right;\n",
       "    }\n",
       "</style>\n",
       "<table border=\"1\" class=\"dataframe\">\n",
       "  <thead>\n",
       "    <tr style=\"text-align: right;\">\n",
       "      <th></th>\n",
       "      <th>Description</th>\n",
       "      <th>Commenting</th>\n",
       "      <th>Staring</th>\n",
       "      <th>Touching</th>\n",
       "    </tr>\n",
       "  </thead>\n",
       "  <tbody>\n",
       "    <tr>\n",
       "      <th>0</th>\n",
       "      <td>Was walking along crowded street, holding mums...</td>\n",
       "      <td>0</td>\n",
       "      <td>0</td>\n",
       "      <td>1</td>\n",
       "    </tr>\n",
       "    <tr>\n",
       "      <th>1</th>\n",
       "      <td>This incident took place in the evening.I was ...</td>\n",
       "      <td>0</td>\n",
       "      <td>1</td>\n",
       "      <td>0</td>\n",
       "    </tr>\n",
       "    <tr>\n",
       "      <th>2</th>\n",
       "      <td>I WAS WAITING FOR THE BUS. A MAN CAME ON A BIK...</td>\n",
       "      <td>1</td>\n",
       "      <td>0</td>\n",
       "      <td>0</td>\n",
       "    </tr>\n",
       "    <tr>\n",
       "      <th>3</th>\n",
       "      <td>Incident happened inside the train</td>\n",
       "      <td>0</td>\n",
       "      <td>0</td>\n",
       "      <td>0</td>\n",
       "    </tr>\n",
       "    <tr>\n",
       "      <th>4</th>\n",
       "      <td>I witnessed an incident when a chain was bruta...</td>\n",
       "      <td>0</td>\n",
       "      <td>0</td>\n",
       "      <td>0</td>\n",
       "    </tr>\n",
       "  </tbody>\n",
       "</table>\n",
       "</div>"
      ],
      "text/plain": [
       "                                         Description  Commenting  Staring  \\\n",
       "0  Was walking along crowded street, holding mums...           0        0   \n",
       "1  This incident took place in the evening.I was ...           0        1   \n",
       "2  I WAS WAITING FOR THE BUS. A MAN CAME ON A BIK...           1        0   \n",
       "3                 Incident happened inside the train           0        0   \n",
       "4  I witnessed an incident when a chain was bruta...           0        0   \n",
       "\n",
       "   Touching  \n",
       "0         1  \n",
       "1         0  \n",
       "2         0  \n",
       "3         0  \n",
       "4         0  "
      ]
     },
     "execution_count": 20,
     "metadata": {},
     "output_type": "execute_result"
    }
   ],
   "source": [
    "multi_train.head()"
   ]
  },
  {
   "cell_type": "code",
   "execution_count": 21,
   "metadata": {
    "id": "2UM3RsEwx6A7"
   },
   "outputs": [],
   "source": [
    "# Drop Duplicates\n",
    "\n",
    "# keep the first occurance of duplicates for all three datasets and drop the rest\n",
    "\n",
    "multi_train.drop_duplicates(keep = 'first', inplace=True)\n",
    "multi_validation.drop_duplicates(keep = 'first', inplace=True)\n",
    "multi_test.drop_duplicates(keep = 'first', inplace=True)"
   ]
  },
  {
   "cell_type": "code",
   "execution_count": 22,
   "metadata": {
    "colab": {
     "base_uri": "https://localhost:8080/",
     "height": 204
    },
    "executionInfo": {
     "elapsed": 18,
     "status": "ok",
     "timestamp": 1623161200979,
     "user": {
      "displayName": "Bhavesh Naidu",
      "photoUrl": "https://lh3.googleusercontent.com/a-/AOh14GhFnpKa-dO8FNoommFXj18z6YN49btxU7vagrqs=s64",
      "userId": "16718863442283687806"
     },
     "user_tz": -330
    },
    "id": "MUt7H-pex6DI",
    "outputId": "3f08621b-1d76-4591-a019-605ffbe201d6"
   },
   "outputs": [
    {
     "data": {
      "text/html": [
       "<div>\n",
       "<style scoped>\n",
       "    .dataframe tbody tr th:only-of-type {\n",
       "        vertical-align: middle;\n",
       "    }\n",
       "\n",
       "    .dataframe tbody tr th {\n",
       "        vertical-align: top;\n",
       "    }\n",
       "\n",
       "    .dataframe thead th {\n",
       "        text-align: right;\n",
       "    }\n",
       "</style>\n",
       "<table border=\"1\" class=\"dataframe\">\n",
       "  <thead>\n",
       "    <tr style=\"text-align: right;\">\n",
       "      <th></th>\n",
       "      <th>Description</th>\n",
       "      <th>Commenting</th>\n",
       "      <th>Staring</th>\n",
       "      <th>Touching</th>\n",
       "    </tr>\n",
       "  </thead>\n",
       "  <tbody>\n",
       "    <tr>\n",
       "      <th>0</th>\n",
       "      <td>Was walking along crowded street, holding mums...</td>\n",
       "      <td>0</td>\n",
       "      <td>0</td>\n",
       "      <td>1</td>\n",
       "    </tr>\n",
       "    <tr>\n",
       "      <th>1</th>\n",
       "      <td>This incident took place in the evening.I was ...</td>\n",
       "      <td>0</td>\n",
       "      <td>1</td>\n",
       "      <td>0</td>\n",
       "    </tr>\n",
       "    <tr>\n",
       "      <th>2</th>\n",
       "      <td>I WAS WAITING FOR THE BUS. A MAN CAME ON A BIK...</td>\n",
       "      <td>1</td>\n",
       "      <td>0</td>\n",
       "      <td>0</td>\n",
       "    </tr>\n",
       "    <tr>\n",
       "      <th>3</th>\n",
       "      <td>Incident happened inside the train</td>\n",
       "      <td>0</td>\n",
       "      <td>0</td>\n",
       "      <td>0</td>\n",
       "    </tr>\n",
       "    <tr>\n",
       "      <th>4</th>\n",
       "      <td>I witnessed an incident when a chain was bruta...</td>\n",
       "      <td>0</td>\n",
       "      <td>0</td>\n",
       "      <td>0</td>\n",
       "    </tr>\n",
       "  </tbody>\n",
       "</table>\n",
       "</div>"
      ],
      "text/plain": [
       "                                         Description  Commenting  Staring  \\\n",
       "0  Was walking along crowded street, holding mums...           0        0   \n",
       "1  This incident took place in the evening.I was ...           0        1   \n",
       "2  I WAS WAITING FOR THE BUS. A MAN CAME ON A BIK...           1        0   \n",
       "3                 Incident happened inside the train           0        0   \n",
       "4  I witnessed an incident when a chain was bruta...           0        0   \n",
       "\n",
       "   Touching  \n",
       "0         1  \n",
       "1         0  \n",
       "2         0  \n",
       "3         0  \n",
       "4         0  "
      ]
     },
     "execution_count": 22,
     "metadata": {},
     "output_type": "execute_result"
    }
   ],
   "source": [
    "train = pd.concat([multi_train, multi_validation], axis=0 ) # concat train and validation set \n",
    "train.head()"
   ]
  },
  {
   "cell_type": "code",
   "execution_count": 23,
   "metadata": {
    "id": "EHadB48Wx6FB"
   },
   "outputs": [],
   "source": [
    "test = multi_test  # test set"
   ]
  },
  {
   "cell_type": "code",
   "execution_count": 24,
   "metadata": {
    "colab": {
     "base_uri": "https://localhost:8080/"
    },
    "executionInfo": {
     "elapsed": 18,
     "status": "ok",
     "timestamp": 1623161202568,
     "user": {
      "displayName": "Bhavesh Naidu",
      "photoUrl": "https://lh3.googleusercontent.com/a-/AOh14GhFnpKa-dO8FNoommFXj18z6YN49btxU7vagrqs=s64",
      "userId": "16718863442283687806"
     },
     "user_tz": -330
    },
    "id": "QJnATVBPx6HX",
    "outputId": "d5a438e7-2fca-4afa-d529-ecf0c38744ce"
   },
   "outputs": [
    {
     "data": {
      "text/plain": [
       "((7735, 4), (1640, 4))"
      ]
     },
     "execution_count": 24,
     "metadata": {},
     "output_type": "execute_result"
    }
   ],
   "source": [
    "train.shape, test.shape"
   ]
  },
  {
   "cell_type": "code",
   "execution_count": 25,
   "metadata": {
    "id": "rbV2HBwU_zuE"
   },
   "outputs": [],
   "source": [
    "y_train = train[['Commenting', 'Staring', 'Touching']].values\n",
    "y_test = test[['Commenting', 'Staring', 'Touching']].values"
   ]
  },
  {
   "cell_type": "markdown",
   "metadata": {
    "id": "eNg5G8Sk8tgQ"
   },
   "source": [
    "## Tokenization and Padding"
   ]
  },
  {
   "cell_type": "code",
   "execution_count": 26,
   "metadata": {
    "id": "BLyMyy4Y5L26"
   },
   "outputs": [],
   "source": [
    "# Text Data \n",
    "description_train_text =list(train['Description'].values)\n",
    "description_test_text = list(test['Description'].values)\n",
    "\n",
    "# tokenize the Text data\n",
    "tokenizer = tf.keras.preprocessing.text.Tokenizer()\n",
    "# fit on train data\n",
    "tokenizer.fit_on_texts(description_train_text)     \n",
    "# transform train and test data\n",
    "train_description_sequences = tokenizer.texts_to_sequences(description_train_text)\n",
    "test_description_sequences = tokenizer.texts_to_sequences(description_test_text)\n",
    "\n",
    "# vocabulary size \n",
    "vocab_size = len(tokenizer.word_index) + 1\n",
    "\n",
    "# pad the sequnce\n",
    "\n",
    "train_description_padded = pad_sequences(\n",
    "        train_description_sequences, maxlen=300, dtype='int32', padding='post',  \n",
    "        truncating='post')                                                  \n",
    "\n",
    "test_description_padded = pad_sequences(\n",
    "        test_description_sequences, maxlen=300, dtype='int32', padding='post', \n",
    "        truncating='post')                                  "
   ]
  },
  {
   "cell_type": "markdown",
   "metadata": {
    "id": "icBIo_8MroRn"
   },
   "source": [
    "### performance metrics "
   ]
  },
  {
   "cell_type": "code",
   "execution_count": 60,
   "metadata": {
    "colab": {
     "base_uri": "https://localhost:8080/"
    },
    "executionInfo": {
     "elapsed": 4705,
     "status": "ok",
     "timestamp": 1623161418089,
     "user": {
      "displayName": "Bhavesh Naidu",
      "photoUrl": "https://lh3.googleusercontent.com/a-/AOh14GhFnpKa-dO8FNoommFXj18z6YN49btxU7vagrqs=s64",
      "userId": "16718863442283687806"
     },
     "user_tz": -330
    },
    "id": "K0GXtyi26GIS",
    "outputId": "70ec1a1f-56be-40ea-fe3b-e2e85769d5f0"
   },
   "outputs": [
    {
     "name": "stdout",
     "output_type": "stream",
     "text": [
      "Collecting tensorflow-addons\n",
      "  Downloading tensorflow_addons-0.23.0-cp311-cp311-macosx_11_0_arm64.whl.metadata (1.7 kB)\n",
      "Collecting typeguard<3.0.0,>=2.7 (from tensorflow-addons)\n",
      "  Downloading typeguard-2.13.3-py3-none-any.whl.metadata (3.6 kB)\n",
      "Requirement already satisfied: packaging in ./venv/lib/python3.11/site-packages (from tensorflow-addons) (23.2)\n",
      "Downloading tensorflow_addons-0.23.0-cp311-cp311-macosx_11_0_arm64.whl (12.6 MB)\n",
      "\u001b[2K   \u001b[38;2;114;156;31m━━━━━━━━━━━━━━━━━━━━━━━━━━━━━━━━━━━━━━━━\u001b[0m \u001b[32m12.6/12.6 MB\u001b[0m \u001b[31m3.6 MB/s\u001b[0m eta \u001b[36m0:00:00\u001b[0mm eta \u001b[36m0:00:01\u001b[0m[36m0:00:01\u001b[0m\n",
      "\u001b[?25hDownloading typeguard-2.13.3-py3-none-any.whl (17 kB)\n",
      "Installing collected packages: typeguard, tensorflow-addons\n",
      "Successfully installed tensorflow-addons-0.23.0 typeguard-2.13.3\n"
     ]
    }
   ],
   "source": [
    "!pip install tensorflow-addons"
   ]
  },
  {
   "cell_type": "code",
   "execution_count": 68,
   "metadata": {
    "id": "ynYiQUgBrnO5"
   },
   "outputs": [
    {
     "name": "stdout",
     "output_type": "stream",
     "text": [
      "F1 Score: 0.65530556\n",
      "Hamming Loss: 0.16707325\n",
      "hamming score: 0.8329267501831055\n"
     ]
    }
   ],
   "source": [
    "import tensorflow as tf\n",
    "\n",
    "# Define functions to compute F1 Score and Hamming Loss\n",
    "def f1_score(y_true, y_pred, threshold=0.5):\n",
    "    y_true = tf.cast(y_true, tf.float32)\n",
    "    y_pred = tf.cast(tf.math.greater(y_pred, threshold), tf.float32)\n",
    "    true_positives = tf.reduce_sum(tf.cast(tf.math.logical_and(tf.equal(y_true, 1), tf.equal(y_pred, 1)), tf.float32), axis=0)\n",
    "    predicted_positives = tf.reduce_sum(y_pred, axis=0)\n",
    "    actual_positives = tf.reduce_sum(y_true, axis=0)\n",
    "    precision = true_positives / (predicted_positives + tf.keras.backend.epsilon())\n",
    "    recall = true_positives / (actual_positives + tf.keras.backend.epsilon())\n",
    "    f1 = 2 * precision * recall / (precision + recall + tf.keras.backend.epsilon())\n",
    "    return tf.reduce_mean(f1)\n",
    "\n",
    "def hamming_loss(y_true, y_pred, threshold=0.5):\n",
    "    y_pred = tf.cast(tf.math.greater(y_pred, threshold), tf.float32)\n",
    "    hamming_loss = 1 - tf.reduce_mean(tf.reduce_mean(tf.cast(tf.equal(y_true, y_pred), tf.float32), axis=1))\n",
    "    return hamming_loss\n",
    "\n",
    "# Assuming y_test and y_pred are defined\n",
    "# Compute F1 Score and Hamming Loss\n",
    "f1_score_value = f1_score(y_test, y_pred)\n",
    "hamming_loss_value = hamming_loss(y_test, y_pred)\n",
    "\n",
    "# Print the results\n",
    "print('F1 Score:', f1_score_value.numpy())\n",
    "print('Hamming Loss:', hamming_loss_value.numpy())\n",
    "print('hamming score:',1-hamming_loss_value.numpy())"
   ]
  },
  {
   "cell_type": "code",
   "execution_count": 69,
   "metadata": {
    "id": "VDMTJIdVNbr1"
   },
   "outputs": [],
   "source": [
    "# Exact match ratio\n",
    "def exact_match_ratio(y_true, y_pred):\n",
    "    MR = np.all(y_pred == y_true, axis=1).mean()\n",
    "    return MR"
   ]
  },
  {
   "cell_type": "code",
   "execution_count": 70,
   "metadata": {
    "id": "sb7HNmQLNA9e"
   },
   "outputs": [],
   "source": [
    "# conver probabilities to labels\n",
    "\n",
    "def prob_to_class(arr):   # converts probailities to class labes based on 0.5 threshold\n",
    "    r,c = arr.shape\n",
    "    predict =np.zeros((r, c))\n",
    "    for i in range(r):\n",
    "        for j in range(c):\n",
    "            if arr[i,j]>0.5:\n",
    "                predict[i,j] = 1\n",
    "    return predict"
   ]
  },
  {
   "cell_type": "markdown",
   "metadata": {
    "id": "M9nkxYVsKIaC"
   },
   "source": [
    "# FastText Embeddings"
   ]
  },
  {
   "cell_type": "code",
   "execution_count": 27,
   "metadata": {
    "id": "zxmS4t8kKHiH"
   },
   "outputs": [
    {
     "name": "stdout",
     "output_type": "stream",
     "text": [
      "Requirement already satisfied: gensim in ./venv/lib/python3.11/site-packages (4.3.2)\n",
      "Requirement already satisfied: numpy>=1.18.5 in ./venv/lib/python3.11/site-packages (from gensim) (1.26.4)\n",
      "Requirement already satisfied: scipy>=1.7.0 in ./venv/lib/python3.11/site-packages (from gensim) (1.12.0)\n",
      "Requirement already satisfied: smart-open>=1.8.1 in ./venv/lib/python3.11/site-packages (from gensim) (7.0.1)\n",
      "Requirement already satisfied: wrapt in ./venv/lib/python3.11/site-packages (from smart-open>=1.8.1->gensim) (1.16.0)\n",
      "Requirement already satisfied: matplotlib in ./venv/lib/python3.11/site-packages (3.8.3)\n",
      "Requirement already satisfied: contourpy>=1.0.1 in ./venv/lib/python3.11/site-packages (from matplotlib) (1.2.0)\n",
      "Requirement already satisfied: cycler>=0.10 in ./venv/lib/python3.11/site-packages (from matplotlib) (0.12.1)\n",
      "Requirement already satisfied: fonttools>=4.22.0 in ./venv/lib/python3.11/site-packages (from matplotlib) (4.49.0)\n",
      "Requirement already satisfied: kiwisolver>=1.3.1 in ./venv/lib/python3.11/site-packages (from matplotlib) (1.4.5)\n",
      "Requirement already satisfied: numpy<2,>=1.21 in ./venv/lib/python3.11/site-packages (from matplotlib) (1.26.4)\n",
      "Requirement already satisfied: packaging>=20.0 in ./venv/lib/python3.11/site-packages (from matplotlib) (23.2)\n",
      "Requirement already satisfied: pillow>=8 in ./venv/lib/python3.11/site-packages (from matplotlib) (10.2.0)\n",
      "Requirement already satisfied: pyparsing>=2.3.1 in ./venv/lib/python3.11/site-packages (from matplotlib) (3.1.2)\n",
      "Requirement already satisfied: python-dateutil>=2.7 in ./venv/lib/python3.11/site-packages (from matplotlib) (2.9.0.post0)\n",
      "Requirement already satisfied: six>=1.5 in ./venv/lib/python3.11/site-packages (from python-dateutil>=2.7->matplotlib) (1.16.0)\n"
     ]
    }
   ],
   "source": [
    "!pip install gensim\n",
    "!pip install matplotlib\n",
    "from gensim.models.fasttext import FastText\n",
    "%matplotlib inline "
   ]
  },
  {
   "cell_type": "code",
   "execution_count": 28,
   "metadata": {
    "id": "_sDxjCeAg72j"
   },
   "outputs": [],
   "source": [
    "import nltk"
   ]
  },
  {
   "cell_type": "code",
   "execution_count": 29,
   "metadata": {
    "id": "npyCH0fqKHlN"
   },
   "outputs": [],
   "source": [
    "embedding_size = 300  #  size of the embedding vector. \n",
    "window_size = 20    # size of the number of words occurring before and after the word based on which the word representations.\n",
    "min_word = 5  # minimum frequency of a word in the corpus for which the word representations will be generated\n",
    "down_sampling = 1e-2   # most frequently occurring word will be down-sampled by a number specified by the down_sampling "
   ]
  },
  {
   "cell_type": "code",
   "execution_count": 30,
   "metadata": {
    "id": "3sFhmtohKHoZ"
   },
   "outputs": [],
   "source": [
    "word_punctuation_tokenizer = nltk.WordPunctTokenizer()\n",
    "word_tokenized_corpus = [word_punctuation_tokenizer.tokenize(sent) for sent in description_train_text]"
   ]
  },
  {
   "cell_type": "code",
   "execution_count": 34,
   "metadata": {
    "colab": {
     "base_uri": "https://localhost:8080/"
    },
    "id": "bfhZtCWNKHqx",
    "outputId": "2f115fb3-9b30-4fe3-898a-18c34036dbc8"
   },
   "outputs": [
    {
     "name": "stdout",
     "output_type": "stream",
     "text": [
      "CPU times: user 14min 9s, sys: 4.43 s, total: 14min 14s\n",
      "Wall time: 4min 54s\n"
     ]
    }
   ],
   "source": [
    "%%time\n",
    "ft_model = FastText(word_tokenized_corpus,\n",
    "                      vector_size=embedding_size,\n",
    "                      window=window_size,\n",
    "                      min_count=min_word,\n",
    "                      sample=down_sampling,\n",
    "                      sg=1,\n",
    "                      epochs=100)"
   ]
  },
  {
   "cell_type": "code",
   "execution_count": 49,
   "metadata": {
    "id": "bu_D9Z_AjwjZ"
   },
   "outputs": [],
   "source": [
    "embedding_matrix_fast_text = np.zeros((vocab_size, 300))\n",
    "for word, i in tokenizer.word_index.items():\n",
    "  try:\n",
    "    embedding_vector = ft_model.wv[word] # getting the vector for each word\n",
    "  except:\n",
    "    embedding_vector = np.zeros(300)\n",
    "  \n",
    "  if embedding_vector is not None:\n",
    "    embedding_matrix_fast_text[i] = embedding_vector"
   ]
  },
  {
   "cell_type": "markdown",
   "metadata": {
    "id": "8i5SmxdhsiqH"
   },
   "source": [
    "## Bidirectional LSTM + Conv1D layer with FastText Embedding "
   ]
  },
  {
   "cell_type": "code",
   "execution_count": 54,
   "metadata": {
    "colab": {
     "base_uri": "https://localhost:8080/"
    },
    "id": "C1BXgsrIph6F",
    "outputId": "1e8efcbd-311f-440f-e7e8-af13c833328d"
   },
   "outputs": [
    {
     "name": "stdout",
     "output_type": "stream",
     "text": [
      "(9384, 300)\n",
      "Model creation successful.\n"
     ]
    }
   ],
   "source": [
    "from keras.initializers import Constant\n",
    "\n",
    "# Assuming max_input is already defined elsewhere in your code\n",
    "max_input=300\n",
    "# Print the shape of embedding_matrix_fast_text to confirm it's a NumPy array\n",
    "print(embedding_matrix_fast_text.shape)\n",
    "\n",
    "input = Input(shape=(max_input,), name='Description text')  # Input layer with defined shape\n",
    "\n",
    "try:\n",
    "    # Use the embedding matrix directly\n",
    "    embedding_matrix = embedding_matrix_fast_text\n",
    "\n",
    "    # Initialize the embedding layer without pre-trained weights\n",
    "    embedding = Embedding(vocab_size, embedding_size, trainable=False)\n",
    "\n",
    "    # Set the weights of the embedding layer\n",
    "    embedding.build((None,))\n",
    "    embedding.set_weights([embedding_matrix])\n",
    "\n",
    "    # Apply the embedding layer to the input\n",
    "    embedded_input = embedding(input)\n",
    "\n",
    "    x = SpatialDropout1D(0.2)(embedded_input)\n",
    "\n",
    "    z = GlobalMaxPool1D()(x)\n",
    "\n",
    "    conv = Conv1D(64, 4, activation=\"relu\")(x)\n",
    "\n",
    "    x = GlobalMaxPool1D()(conv)\n",
    "\n",
    "    x = Concatenate()([x, z])\n",
    "\n",
    "    x = Dropout(0.3)(x)\n",
    "\n",
    "    output = Dense(3, activation=\"sigmoid\")(x)\n",
    "\n",
    "    model_4_fast_text = Model(inputs=input, outputs=output)\n",
    "\n",
    "    print(\"Model creation successful.\")\n",
    "except Exception as e:\n",
    "    print(\"An error occurred:\", e)"
   ]
  },
  {
   "cell_type": "code",
   "execution_count": 55,
   "metadata": {
    "colab": {
     "base_uri": "https://localhost:8080/"
    },
    "id": "zUZZgi_Iph8P",
    "outputId": "497ebaa2-de98-45e1-d420-f53569babd48"
   },
   "outputs": [
    {
     "name": "stdout",
     "output_type": "stream",
     "text": [
      "Epoch 1/10\n",
      "\u001b[1m121/121\u001b[0m \u001b[32m━━━━━━━━━━━━━━━━━━━━\u001b[0m\u001b[37m\u001b[0m \u001b[1m7s\u001b[0m 52ms/step - binary_accuracy: 0.6945 - loss: 0.6009 - val_binary_accuracy: 0.8057 - val_loss: 0.4421\n",
      "Epoch 2/10\n",
      "\u001b[1m121/121\u001b[0m \u001b[32m━━━━━━━━━━━━━━━━━━━━\u001b[0m\u001b[37m\u001b[0m \u001b[1m6s\u001b[0m 50ms/step - binary_accuracy: 0.8195 - loss: 0.4279 - val_binary_accuracy: 0.8350 - val_loss: 0.3971\n",
      "Epoch 3/10\n",
      "\u001b[1m121/121\u001b[0m \u001b[32m━━━━━━━━━━━━━━━━━━━━\u001b[0m\u001b[37m\u001b[0m \u001b[1m7s\u001b[0m 55ms/step - binary_accuracy: 0.8439 - loss: 0.3860 - val_binary_accuracy: 0.8400 - val_loss: 0.3893\n",
      "Epoch 4/10\n",
      "\u001b[1m121/121\u001b[0m \u001b[32m━━━━━━━━━━━━━━━━━━━━\u001b[0m\u001b[37m\u001b[0m \u001b[1m6s\u001b[0m 51ms/step - binary_accuracy: 0.8590 - loss: 0.3471 - val_binary_accuracy: 0.8415 - val_loss: 0.3886\n",
      "Epoch 5/10\n",
      "\u001b[1m121/121\u001b[0m \u001b[32m━━━━━━━━━━━━━━━━━━━━\u001b[0m\u001b[37m\u001b[0m \u001b[1m6s\u001b[0m 50ms/step - binary_accuracy: 0.8705 - loss: 0.3269 - val_binary_accuracy: 0.8407 - val_loss: 0.3901\n",
      "Epoch 6/10\n",
      "\u001b[1m121/121\u001b[0m \u001b[32m━━━━━━━━━━━━━━━━━━━━\u001b[0m\u001b[37m\u001b[0m \u001b[1m6s\u001b[0m 52ms/step - binary_accuracy: 0.8790 - loss: 0.3020 - val_binary_accuracy: 0.8396 - val_loss: 0.3949\n",
      "Epoch 7/10\n",
      "\u001b[1m121/121\u001b[0m \u001b[32m━━━━━━━━━━━━━━━━━━━━\u001b[0m\u001b[37m\u001b[0m \u001b[1m6s\u001b[0m 51ms/step - binary_accuracy: 0.8897 - loss: 0.2791 - val_binary_accuracy: 0.8386 - val_loss: 0.4044\n",
      "Epoch 8/10\n",
      "\u001b[1m121/121\u001b[0m \u001b[32m━━━━━━━━━━━━━━━━━━━━\u001b[0m\u001b[37m\u001b[0m \u001b[1m6s\u001b[0m 51ms/step - binary_accuracy: 0.9025 - loss: 0.2551 - val_binary_accuracy: 0.8368 - val_loss: 0.4109\n",
      "Epoch 9/10\n",
      "\u001b[1m121/121\u001b[0m \u001b[32m━━━━━━━━━━━━━━━━━━━━\u001b[0m\u001b[37m\u001b[0m \u001b[1m6s\u001b[0m 51ms/step - binary_accuracy: 0.9053 - loss: 0.2392 - val_binary_accuracy: 0.8339 - val_loss: 0.4138\n",
      "Epoch 10/10\n",
      "\u001b[1m121/121\u001b[0m \u001b[32m━━━━━━━━━━━━━━━━━━━━\u001b[0m\u001b[37m\u001b[0m \u001b[1m6s\u001b[0m 53ms/step - binary_accuracy: 0.9186 - loss: 0.2158 - val_binary_accuracy: 0.8329 - val_loss: 0.4232\n"
     ]
    }
   ],
   "source": [
    "model_4_fast_text.compile(loss='binary_crossentropy', optimizer='adam', metrics=[tf.keras.metrics.BinaryAccuracy()])\n",
    "history = model_4_fast_text.fit(train_description_padded, y_train, batch_size=64, epochs=10, validation_data=(test_description_padded, y_test))  "
   ]
  },
  {
   "cell_type": "code",
   "execution_count": 56,
   "metadata": {
    "colab": {
     "base_uri": "https://localhost:8080/"
    },
    "id": "QBhMQDAXph-V",
    "outputId": "5fbe591a-12a6-4499-f71c-cb0712a0cbd6"
   },
   "outputs": [
    {
     "name": "stdout",
     "output_type": "stream",
     "text": [
      "\u001b[1m52/52\u001b[0m \u001b[32m━━━━━━━━━━━━━━━━━━━━\u001b[0m\u001b[37m\u001b[0m \u001b[1m0s\u001b[0m 5ms/step - binary_accuracy: 0.8245 - loss: 0.4516\n",
      "Loss: 0.4253774881362915\n",
      "Accuracy: 0.8329269289970398\n"
     ]
    }
   ],
   "source": [
    "score = model_4_fast_text.evaluate(test_description_padded, y_test, verbose=1)\n",
    "print(\"Loss:\", score[0])\n",
    "print(\"Accuracy:\", score[1])"
   ]
  },
  {
   "cell_type": "code",
   "execution_count": 58,
   "metadata": {
    "colab": {
     "base_uri": "https://localhost:8080/",
     "height": 573
    },
    "id": "nYtOIXPMpiA0",
    "outputId": "3bea7cfc-b350-4ac9-fcaf-bee29554ec4d"
   },
   "outputs": [
    {
     "data": {
      "image/png": "[encoded data removed]",
      "text/plain": [
       "<Figure size 640x480 with 1 Axes>"
      ]
     },
     "metadata": {},
     "output_type": "display_data"
    },
    {
     "data": {
      "image/png": "[encoded data removed]",
      "text/plain": [
       "<Figure size 640x480 with 1 Axes>"
      ]
     },
     "metadata": {},
     "output_type": "display_data"
    }
   ],
   "source": [
    "import matplotlib.pyplot as plt\n",
    "plt.plot(history.history['binary_accuracy'])\n",
    "plt.plot(history.history['val_binary_accuracy'])\n",
    "\n",
    "plt.title('model accuracy')\n",
    "plt.ylabel('accuracy')\n",
    "plt.xlabel('epoch')\n",
    "plt.legend(['train','test'], loc='upper left')\n",
    "plt.show()\n",
    "\n",
    "plt.plot(history.history['loss'])\n",
    "plt.plot(history.history['val_loss'])\n",
    "\n",
    "plt.title('model loss')\n",
    "plt.ylabel('loss')\n",
    "plt.xlabel('epoch')\n",
    "plt.legend(['train','test'], loc='upper left')\n",
    "plt.show()"
   ]
  },
  {
   "cell_type": "code",
   "execution_count": 71,
   "metadata": {
    "id": "Xa4bQBFLpiDX"
   },
   "outputs": [
    {
     "name": "stdout",
     "output_type": "stream",
     "text": [
      "\u001b[1m26/26\u001b[0m \u001b[32m━━━━━━━━━━━━━━━━━━━━\u001b[0m\u001b[37m\u001b[0m \u001b[1m0s\u001b[0m 14ms/step\n"
     ]
    }
   ],
   "source": [
    "y_pred = model_4_fast_text.predict(test_description_padded, batch_size=64)\n",
    "y_class = prob_to_class(y_pred)"
   ]
  },
  {
   "cell_type": "code",
   "execution_count": 75,
   "metadata": {
    "colab": {
     "base_uri": "https://localhost:8080/"
    },
    "id": "R4zfzHhItTQ2",
    "outputId": "c9620e23-8cc8-4a53-b664-e61e6eebe4e8"
   },
   "outputs": [
    {
     "name": "stdout",
     "output_type": "stream",
     "text": [
      "Hamming Loss:  tf.Tensor(0.16707325, shape=(), dtype=float32)\n",
      "Exact Match Ratio:  0.6207317073170732\n",
      "Recall:  0.6016096579476862\n",
      "Precision:  0.7973333333333333\n",
      "Fl score:  tf.Tensor(0.65530556, shape=(), dtype=float32)\n"
     ]
    }
   ],
   "source": [
    "print(\"Hamming Loss: \", hamming_loss(y_test, y_class))\n",
    "print(\"Exact Match Ratio: \", exact_match_ratio(y_test, y_class))\n",
    "print(\"Recall: \", recall_score(y_test, y_class, average='micro'))\n",
    "print(\"Precision: \", precision_score(y_test, y_class, average='micro'))\n",
    "print(\"Fl score: \", f1_score(y_true=y_test, y_pred=y_class, threshold=0.5))"
   ]
  },
  {
   "cell_type": "code",
   "execution_count": 76,
   "metadata": {
    "id": "hNQx7Rh_2REn"
   },
   "outputs": [],
   "source": [
    "# model_4_fast_text.save('model_4_fast_text.h5')\n",
    "# model_2 = tf.keras.models.load_model('cnn_model.h5') #same file path"
   ]
  }
 ],
 "metadata": {
  "accelerator": "GPU",
  "colab": {
   "collapsed_sections": [],
   "name": "Copy of DeepLearning Models.ipynb",
   "provenance": [
    {
     "file_id": "1JbSjN9PE357VHXsqFMM6_IymivaVeDp2",
     "timestamp": 1624726451427
    }
   ]
  },
  "kernelspec": {
   "display_name": "Python 3 (ipykernel)",
   "language": "python",
   "name": "python3"
  },
  "language_info": {
   "codemirror_mode": {
    "name": "ipython",
    "version": 3
   },
   "file_extension": ".py",
   "mimetype": "text/x-python",
   "name": "python",
   "nbconvert_exporter": "python",
   "pygments_lexer": "ipython3",
   "version": "3.11.3"
  }
 },
 "nbformat": 4,
 "nbformat_minor": 4
}
