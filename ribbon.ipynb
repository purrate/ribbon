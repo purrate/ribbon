{
 "cells": [
  {
   "cell_type": "markdown",
   "id": "de398292-b863-4ca8-88be-cc1e8253de7b",
   "metadata": {},
   "source": [
    "## safecity dataset model\n"
   ]
  },
  {
   "cell_type": "code",
   "execution_count": 3,
   "id": "fbb29bda-00fe-498f-b737-24ae20fc77c4",
   "metadata": {},
   "outputs": [],
   "source": [
    "import numpy as np\n",
    "import pandas as pd\n",
    "import sys, os, re, csv, codecs\n",
    "import tensorflow as tf\n",
    "from tensorflow.keras.preprocessing.text import Tokenizer\n",
    "from tensorflow.keras.preprocessing.sequence import pad_sequences\n",
    "from tensorflow.keras.layers import Dense, Input, LSTM, Embedding, Conv1D, concatenate, Flatten, Concatenate\n",
    "from tensorflow.keras.layers import  BatchNormalization, Dropout, Activation, SpatialDropout1D, MaxPooling1D, GlobalAveragePooling1D, GlobalMaxPooling1D\n",
    "from tensorflow.keras.layers import Bidirectional, GlobalMaxPool1D\n",
    "from tensorflow.keras.models import Model\n",
    "from tensorflow.keras import initializers, regularizers, constraints, optimizers, layers"
   ]
  },
  {
   "cell_type": "code",
   "execution_count": 5,
   "id": "910971c7-32bb-4de7-87ab-918e39543a12",
   "metadata": {},
   "outputs": [],
   "source": [
    "from sklearn.metrics import hamming_loss\n",
    "from sklearn.metrics import recall_score\n",
    "from sklearn.metrics import precision_score\n",
    "from sklearn.metrics import f1_score "
   ]
  },
  {
   "cell_type": "markdown",
   "id": "0de9eb4b-a15c-421b-aba9-15a0ca7031bf",
   "metadata": {},
   "source": [
    "### reading and formatting the dataset for training\n"
   ]
  },
  {
   "cell_type": "code",
   "execution_count": 6,
   "id": "8d8ab5fc-2c7d-42fe-b3dd-177ed965f28a",
   "metadata": {},
   "outputs": [],
   "source": [
    "multi_train = pd.read_csv('train.csv')\n",
    "\n",
    "multi_validation = pd.read_csv('dev.csv')\n",
    "\n",
    "multi_test = pd.read_csv('test.csv')"
   ]
  },
  {
   "cell_type": "code",
   "execution_count": 7,
   "id": "999c9bd8-e612-410e-9d78-d2992fb22296",
   "metadata": {},
   "outputs": [
    {
     "data": {
      "text/html": [
       "<div>\n",
       "<style scoped>\n",
       "    .dataframe tbody tr th:only-of-type {\n",
       "        vertical-align: middle;\n",
       "    }\n",
       "\n",
       "    .dataframe tbody tr th {\n",
       "        vertical-align: top;\n",
       "    }\n",
       "\n",
       "    .dataframe thead th {\n",
       "        text-align: right;\n",
       "    }\n",
       "</style>\n",
       "<table border=\"1\" class=\"dataframe\">\n",
       "  <thead>\n",
       "    <tr style=\"text-align: right;\">\n",
       "      <th></th>\n",
       "      <th>Description</th>\n",
       "      <th>Commenting</th>\n",
       "      <th>Ogling/Facial Expressions/Staring</th>\n",
       "      <th>Touching /Groping</th>\n",
       "    </tr>\n",
       "  </thead>\n",
       "  <tbody>\n",
       "    <tr>\n",
       "      <th>0</th>\n",
       "      <td>Was walking along crowded street, holding mums...</td>\n",
       "      <td>0</td>\n",
       "      <td>0</td>\n",
       "      <td>1</td>\n",
       "    </tr>\n",
       "    <tr>\n",
       "      <th>1</th>\n",
       "      <td>This incident took place in the evening.I was ...</td>\n",
       "      <td>0</td>\n",
       "      <td>1</td>\n",
       "      <td>0</td>\n",
       "    </tr>\n",
       "    <tr>\n",
       "      <th>2</th>\n",
       "      <td>I WAS WAITING FOR THE BUS. A MAN CAME ON A BIK...</td>\n",
       "      <td>1</td>\n",
       "      <td>0</td>\n",
       "      <td>0</td>\n",
       "    </tr>\n",
       "    <tr>\n",
       "      <th>3</th>\n",
       "      <td>Incident happened inside the train</td>\n",
       "      <td>0</td>\n",
       "      <td>0</td>\n",
       "      <td>0</td>\n",
       "    </tr>\n",
       "    <tr>\n",
       "      <th>4</th>\n",
       "      <td>I witnessed an incident when a chain was bruta...</td>\n",
       "      <td>0</td>\n",
       "      <td>0</td>\n",
       "      <td>0</td>\n",
       "    </tr>\n",
       "  </tbody>\n",
       "</table>\n",
       "</div>"
      ],
      "text/plain": [
       "                                         Description  Commenting  \\\n",
       "0  Was walking along crowded street, holding mums...           0   \n",
       "1  This incident took place in the evening.I was ...           0   \n",
       "2  I WAS WAITING FOR THE BUS. A MAN CAME ON A BIK...           1   \n",
       "3                 Incident happened inside the train           0   \n",
       "4  I witnessed an incident when a chain was bruta...           0   \n",
       "\n",
       "   Ogling/Facial Expressions/Staring  Touching /Groping  \n",
       "0                                  0                  1  \n",
       "1                                  1                  0  \n",
       "2                                  0                  0  \n",
       "3                                  0                  0  \n",
       "4                                  0                  0  "
      ]
     },
     "execution_count": 7,
     "metadata": {},
     "output_type": "execute_result"
    }
   ],
   "source": [
    "multi_train.head()"
   ]
  },
  {
   "cell_type": "code",
   "execution_count": 12,
   "id": "9c61f6a6-129a-470a-a0c7-9bc5eb71bad6",
   "metadata": {},
   "outputs": [],
   "source": [
    "\n",
    "multi_train.rename(columns={\"Ogling/Facial Expressions/Staring\": \"Staring\", \"Touching /Groping\": \"Touching\"}, inplace=True)\n",
    "multi_validation.rename(columns={\"Ogling/Facial Expressions/Staring\": \"Staring\", \"Touching /Groping\": \"Touching\"},inplace=True)\n",
    "multi_test.rename(columns={\"Ogling/Facial Expressions/Staring\": \"Staring\", \"Touching /Groping\": \"Touching\"},inplace=True)"
   ]
  },
  {
   "cell_type": "code",
   "execution_count": 14,
   "id": "64455f37-af07-43e9-b9f6-ba8f01dd4b17",
   "metadata": {},
   "outputs": [],
   "source": [
    "# removing the duplicates to avoid clash\n",
    "\n",
    "multi_train.drop_duplicates(keep = 'first', inplace=True)\n",
    "multi_validation.drop_duplicates(keep = 'first', inplace=True)\n",
    "multi_test.drop_duplicates(keep = 'first', inplace=True)"
   ]
  },
  {
   "cell_type": "code",
   "execution_count": 15,
   "id": "2d23f053-aab4-4e65-8c37-8e743bde95f8",
   "metadata": {},
   "outputs": [
    {
     "data": {
      "text/html": [
       "<div>\n",
       "<style scoped>\n",
       "    .dataframe tbody tr th:only-of-type {\n",
       "        vertical-align: middle;\n",
       "    }\n",
       "\n",
       "    .dataframe tbody tr th {\n",
       "        vertical-align: top;\n",
       "    }\n",
       "\n",
       "    .dataframe thead th {\n",
       "        text-align: right;\n",
       "    }\n",
       "</style>\n",
       "<table border=\"1\" class=\"dataframe\">\n",
       "  <thead>\n",
       "    <tr style=\"text-align: right;\">\n",
       "      <th></th>\n",
       "      <th>Description</th>\n",
       "      <th>Commenting</th>\n",
       "      <th>Staring</th>\n",
       "      <th>Touching</th>\n",
       "    </tr>\n",
       "  </thead>\n",
       "  <tbody>\n",
       "    <tr>\n",
       "      <th>0</th>\n",
       "      <td>Was walking along crowded street, holding mums...</td>\n",
       "      <td>0</td>\n",
       "      <td>0</td>\n",
       "      <td>1</td>\n",
       "    </tr>\n",
       "    <tr>\n",
       "      <th>1</th>\n",
       "      <td>This incident took place in the evening.I was ...</td>\n",
       "      <td>0</td>\n",
       "      <td>1</td>\n",
       "      <td>0</td>\n",
       "    </tr>\n",
       "    <tr>\n",
       "      <th>2</th>\n",
       "      <td>I WAS WAITING FOR THE BUS. A MAN CAME ON A BIK...</td>\n",
       "      <td>1</td>\n",
       "      <td>0</td>\n",
       "      <td>0</td>\n",
       "    </tr>\n",
       "    <tr>\n",
       "      <th>3</th>\n",
       "      <td>Incident happened inside the train</td>\n",
       "      <td>0</td>\n",
       "      <td>0</td>\n",
       "      <td>0</td>\n",
       "    </tr>\n",
       "    <tr>\n",
       "      <th>4</th>\n",
       "      <td>I witnessed an incident when a chain was bruta...</td>\n",
       "      <td>0</td>\n",
       "      <td>0</td>\n",
       "      <td>0</td>\n",
       "    </tr>\n",
       "  </tbody>\n",
       "</table>\n",
       "</div>"
      ],
      "text/plain": [
       "                                         Description  Commenting  Staring  \\\n",
       "0  Was walking along crowded street, holding mums...           0        0   \n",
       "1  This incident took place in the evening.I was ...           0        1   \n",
       "2  I WAS WAITING FOR THE BUS. A MAN CAME ON A BIK...           1        0   \n",
       "3                 Incident happened inside the train           0        0   \n",
       "4  I witnessed an incident when a chain was bruta...           0        0   \n",
       "\n",
       "   Touching  \n",
       "0         1  \n",
       "1         0  \n",
       "2         0  \n",
       "3         0  \n",
       "4         0  "
      ]
     },
     "execution_count": 15,
     "metadata": {},
     "output_type": "execute_result"
    }
   ],
   "source": [
    "train = pd.concat([multi_train, multi_validation], axis=0 ) # concatinating the train and validation set \n",
    "train.head()"
   ]
  },
  {
   "cell_type": "code",
   "execution_count": 16,
   "id": "5ee73fc7-55c5-4890-bf33-3f17f14e9d25",
   "metadata": {},
   "outputs": [
    {
     "data": {
      "text/plain": [
       "((7735, 4), (1640, 4))"
      ]
     },
     "execution_count": 16,
     "metadata": {},
     "output_type": "execute_result"
    }
   ],
   "source": [
    "test = multi_test  \n",
    "train.shape, test.shape"
   ]
  },
  {
   "cell_type": "code",
   "execution_count": 17,
   "id": "7387a2f0-7a0c-4f07-95cd-5449ac598124",
   "metadata": {},
   "outputs": [],
   "source": [
    "y_train = train[['Commenting', 'Staring', 'Touching']].values\n",
    "y_test = test[['Commenting', 'Staring', 'Touching']].values"
   ]
  },
  {
   "cell_type": "markdown",
   "id": "caebf04e-d6d3-46f9-97d3-476f66407e8c",
   "metadata": {},
   "source": [
    "### tokenizing the text and padding for fasttext"
   ]
  },
  {
   "cell_type": "code",
   "execution_count": 18,
   "id": "0c6de288-e841-47c8-9345-b06e34e3d78d",
   "metadata": {},
   "outputs": [],
   "source": [
    "# Text Data \n",
    "description_train_text =list(train['Description'].values)\n",
    "description_test_text = list(test['Description'].values)\n",
    "\n",
    "# tokenizing\n",
    "tokenizer = tf.keras.preprocessing.text.Tokenizer()\n",
    "# fit on training data\n",
    "tokenizer.fit_on_texts(description_train_text)     \n",
    "train_description_sequences = tokenizer.texts_to_sequences(description_train_text)\n",
    "test_description_sequences = tokenizer.texts_to_sequences(description_test_text)\n",
    "\n",
    "\n",
    "vocab_size = len(tokenizer.word_index) + 1\n",
    "\n",
    "# padding\n",
    "\n",
    "train_description_padded = pad_sequences(\n",
    "        train_description_sequences, maxlen=300, dtype='int32', padding='post',  \n",
    "        truncating='post')                                                  \n",
    "\n",
    "test_description_padded = pad_sequences(\n",
    "        test_description_sequences, maxlen=300, dtype='int32', padding='post', \n",
    "        truncating='post')                                  "
   ]
  },
  {
   "cell_type": "markdown",
   "id": "32a15527-4632-446a-a9bd-8013f73d04fb",
   "metadata": {},
   "source": [
    "#### some metrics\n"
   ]
  },
  {
   "cell_type": "code",
   "execution_count": 19,
   "id": "02834296-42fa-4df3-9a23-3c02dc643b76",
   "metadata": {},
   "outputs": [],
   "source": [
    "# Exact match ratio\n",
    "def exact_match_ratio(y_true, y_pred):\n",
    "    global MR\n",
    "    MR = np.all(y_pred == y_true, axis=1).mean()\n",
    "    return MR"
   ]
  },
  {
   "cell_type": "code",
   "execution_count": 20,
   "id": "ce016e8c-3584-4c46-a0b9-55dc65958c25",
   "metadata": {},
   "outputs": [],
   "source": [
    "# conver probabilities to labels\n",
    "\n",
    "def prob_to_class(arr):   # converts probailities to class labes based on 0.5 threshold\n",
    "    global r,c \n",
    "    r,c = arr.shape\n",
    "    global predict\n",
    "    predict =np.zeros((r, c))\n",
    "    for i in range(r):\n",
    "        for j in range(c):\n",
    "            if arr[i,j]>0.5:\n",
    "                predict[i,j] = 1\n",
    "    return predict"
   ]
  },
  {
   "cell_type": "markdown",
   "id": "93b4f602-ae05-461e-a45a-00221fd19318",
   "metadata": {},
   "source": [
    "### fasttext embeddings"
   ]
  },
  {
   "cell_type": "code",
   "execution_count": 24,
   "id": "05507bdb-5c16-47ae-b2be-75ad5d0b2b00",
   "metadata": {},
   "outputs": [],
   "source": [
    "from gensim.models.fasttext import FastText\n",
    "%matplotlib inline \n",
    "import nltk"
   ]
  },
  {
   "cell_type": "code",
   "execution_count": 25,
   "id": "790ff364-30c3-4fa0-b2ff-fda9692f4ddd",
   "metadata": {},
   "outputs": [],
   "source": [
    "embedding_size = 300  #  size of the embedding vector\n",
    "window_size = 20    # size of the number of words occurring before and after\n",
    "min_word = 5  # minimum frequency of a word \n",
    "down_sampling = 1e-2   # most frequently occurring word will be randomly down sampled "
   ]
  },
  {
   "cell_type": "code",
   "execution_count": 26,
   "id": "5302ed84-b29f-49c2-b002-881848d7dc09",
   "metadata": {},
   "outputs": [],
   "source": [
    "word_punctuation_tokenizer = nltk.WordPunctTokenizer()\n",
    "word_tokenized_corpus = [word_punctuation_tokenizer.tokenize(sent) for sent in description_train_text]"
   ]
  },
  {
   "cell_type": "code",
   "execution_count": 31,
   "id": "0ca2949d-7247-4a9c-ad44-be2dca607e1c",
   "metadata": {},
   "outputs": [
    {
     "name": "stdout",
     "output_type": "stream",
     "text": [
      "CPU times: user 8min 14s, sys: 1.99 s, total: 8min 16s\n",
      "Wall time: 2min 49s\n"
     ]
    }
   ],
   "source": [
    "%%time     \n",
    "ft_model = FastText(word_tokenized_corpus,\n",
    "                      vector_size=embedding_size,\n",
    "                      window=window_size,\n",
    "                      min_count=min_word,\n",
    "                      sample=down_sampling,\n",
    "                      sg=1,\n",
    "                      epochs=100)"
   ]
  },
  {
   "cell_type": "code",
   "execution_count": 32,
   "id": "4561c261-ae8c-4492-8288-c9cc8ded04bc",
   "metadata": {},
   "outputs": [],
   "source": [
    "embedding_matrix_fast_text = np.zeros((vocab_size, 300))\n",
    "for word, i in tokenizer.word_index.items():\n",
    "  try:\n",
    "    embedding_vector = ft_model.wv[word] \n",
    "  except:\n",
    "    embedding_vector = np.zeros(300)\n",
    "  \n",
    "  if embedding_vector is not None:\n",
    "    embedding_matrix_fast_text[i] = embedding_vector"
   ]
  },
  {
   "cell_type": "markdown",
   "id": "78e9cd09-351d-4556-8030-2909bf25915c",
   "metadata": {},
   "source": [
    "## bilstm + cnn 1D"
   ]
  },
  {
   "cell_type": "code",
   "execution_count": 33,
   "id": "48c1f762-d1c3-4371-9e91-4c753ab7101a",
   "metadata": {},
   "outputs": [],
   "source": [
    "max_input=300\n",
    "inputs = Input(shape=(max_input,))  # input \n",
    "embedding = Embedding(vocab_size, embedding_size, trainable=False) \n",
    "\n",
    "embedding.build((None,))\n",
    "embedding.set_weights([embedding_matrix_fast_text])\n",
    "embeddings = embedding(inputs)\n",
    "\n",
    "x = SpatialDropout1D(0.35)(embeddings)\n",
    "\n",
    "x = Bidirectional(LSTM(128, return_sequences=True, dropout=0.15, recurrent_dropout=0.15))(x)\n",
    "x = Conv1D(64, kernel_size=3, padding='valid', kernel_initializer='glorot_uniform')(x)\n",
    "\n",
    "avg_pool = GlobalAveragePooling1D()(x)\n",
    "max_pool = GlobalMaxPooling1D()(x)  \n",
    "\n",
    "x = concatenate([avg_pool, max_pool])\n",
    "\n",
    "x = BatchNormalization()(x)\n",
    "\n",
    "x = Dropout(0.2)(x)   \n",
    "\n",
    "x = Dense(64, activation='relu')(x)\n",
    "\n",
    "x = Dropout(0.2)(x)   \n",
    "\n",
    "outputs = Dense(3, activation='sigmoid')(x)  # output\n",
    "\n",
    "model_4_fast_text = Model(inputs=inputs, outputs = outputs)  # model"
   ]
  },
  {
   "cell_type": "code",
   "execution_count": 34,
   "id": "1efeef1e-96df-4761-bc1b-b8d5be3e07ee",
   "metadata": {},
   "outputs": [
    {
     "name": "stdout",
     "output_type": "stream",
     "text": [
      "Epoch 1/10\n",
      "\u001b[1m121/121\u001b[0m \u001b[32m━━━━━━━━━━━━━━━━━━━━\u001b[0m\u001b[37m\u001b[0m \u001b[1m54s\u001b[0m 432ms/step - binary_accuracy: 0.6535 - loss: 0.6365 - val_binary_accuracy: 0.8010 - val_loss: 0.5224\n",
      "Epoch 2/10\n",
      "\u001b[1m121/121\u001b[0m \u001b[32m━━━━━━━━━━━━━━━━━━━━\u001b[0m\u001b[37m\u001b[0m \u001b[1m52s\u001b[0m 426ms/step - binary_accuracy: 0.8027 - loss: 0.4667 - val_binary_accuracy: 0.8266 - val_loss: 0.4318\n",
      "Epoch 3/10\n",
      "\u001b[1m121/121\u001b[0m \u001b[32m━━━━━━━━━━━━━━━━━━━━\u001b[0m\u001b[37m\u001b[0m \u001b[1m51s\u001b[0m 425ms/step - binary_accuracy: 0.8282 - loss: 0.4230 - val_binary_accuracy: 0.8297 - val_loss: 0.3935\n",
      "Epoch 4/10\n",
      "\u001b[1m121/121\u001b[0m \u001b[32m━━━━━━━━━━━━━━━━━━━━\u001b[0m\u001b[37m\u001b[0m \u001b[1m52s\u001b[0m 427ms/step - binary_accuracy: 0.8419 - loss: 0.3950 - val_binary_accuracy: 0.8362 - val_loss: 0.3891\n",
      "Epoch 5/10\n",
      "\u001b[1m121/121\u001b[0m \u001b[32m━━━━━━━━━━━━━━━━━━━━\u001b[0m\u001b[37m\u001b[0m \u001b[1m52s\u001b[0m 434ms/step - binary_accuracy: 0.8466 - loss: 0.3729 - val_binary_accuracy: 0.8348 - val_loss: 0.3972\n",
      "Epoch 6/10\n",
      "\u001b[1m121/121\u001b[0m \u001b[32m━━━━━━━━━━━━━━━━━━━━\u001b[0m\u001b[37m\u001b[0m \u001b[1m52s\u001b[0m 427ms/step - binary_accuracy: 0.8577 - loss: 0.3615 - val_binary_accuracy: 0.8380 - val_loss: 0.4003\n",
      "Epoch 7/10\n",
      "\u001b[1m121/121\u001b[0m \u001b[32m━━━━━━━━━━━━━━━━━━━━\u001b[0m\u001b[37m\u001b[0m \u001b[1m51s\u001b[0m 426ms/step - binary_accuracy: 0.8576 - loss: 0.3488 - val_binary_accuracy: 0.8376 - val_loss: 0.3934\n",
      "Epoch 8/10\n",
      "\u001b[1m121/121\u001b[0m \u001b[32m━━━━━━━━━━━━━━━━━━━━\u001b[0m\u001b[37m\u001b[0m \u001b[1m53s\u001b[0m 436ms/step - binary_accuracy: 0.8676 - loss: 0.3262 - val_binary_accuracy: 0.8388 - val_loss: 0.4112\n",
      "Epoch 9/10\n",
      "\u001b[1m121/121\u001b[0m \u001b[32m━━━━━━━━━━━━━━━━━━━━\u001b[0m\u001b[37m\u001b[0m \u001b[1m53s\u001b[0m 437ms/step - binary_accuracy: 0.8695 - loss: 0.3186 - val_binary_accuracy: 0.8378 - val_loss: 0.4083\n",
      "Epoch 10/10\n",
      "\u001b[1m121/121\u001b[0m \u001b[32m━━━━━━━━━━━━━━━━━━━━\u001b[0m\u001b[37m\u001b[0m \u001b[1m52s\u001b[0m 427ms/step - binary_accuracy: 0.8807 - loss: 0.2956 - val_binary_accuracy: 0.8372 - val_loss: 0.4229\n"
     ]
    }
   ],
   "source": [
    "model_4_fast_text.compile(loss='binary_crossentropy', optimizer='adam', metrics=[tf.keras.metrics.BinaryAccuracy()])\n",
    "history = model_4_fast_text.fit(train_description_padded, y_train, batch_size=64, epochs=10, validation_data=(test_description_padded, y_test))  "
   ]
  },
  {
   "cell_type": "code",
   "execution_count": 35,
   "id": "116c335a-4f32-41be-810f-22e788a21e62",
   "metadata": {},
   "outputs": [
    {
     "name": "stdout",
     "output_type": "stream",
     "text": [
      "\u001b[1m52/52\u001b[0m \u001b[32m━━━━━━━━━━━━━━━━━━━━\u001b[0m\u001b[37m\u001b[0m \u001b[1m4s\u001b[0m 77ms/step - binary_accuracy: 0.8269 - loss: 0.4544\n",
      "Accuracy: 0.8371952176094055\n"
     ]
    }
   ],
   "source": [
    "score = model_4_fast_text.evaluate(test_description_padded, y_test, verbose=1)\n",
    "print(\"Accuracy:\", score[1])"
   ]
  },
  {
   "cell_type": "code",
   "execution_count": 37,
   "id": "03270a32-916f-4915-a9d1-d558b68b3dae",
   "metadata": {},
   "outputs": [
    {
     "data": {
      "image/png": "[encoded data removed]",
      "text/plain": [
       "<Figure size 640x480 with 1 Axes>"
      ]
     },
     "metadata": {},
     "output_type": "display_data"
    }
   ],
   "source": [
    "import matplotlib.pyplot as plt\n",
    "plt.plot(history.history['binary_accuracy'])\n",
    "plt.plot(history.history['val_binary_accuracy'])\n",
    "\n",
    "plt.title('model accuracy')\n",
    "plt.ylabel('accuracy')\n",
    "plt.xlabel('epoch')\n",
    "plt.legend(['train','test'], loc='upper left')\n",
    "plt.show()\n",
    "\n"
   ]
  },
  {
   "cell_type": "code",
   "execution_count": 38,
   "id": "85c3db22-c1bc-4a0d-8b0b-9b62712b0dde",
   "metadata": {},
   "outputs": [
    {
     "name": "stdout",
     "output_type": "stream",
     "text": [
      "\u001b[1m26/26\u001b[0m \u001b[32m━━━━━━━━━━━━━━━━━━━━\u001b[0m\u001b[37m\u001b[0m \u001b[1m3s\u001b[0m 119ms/step\n",
      "[[1. 0. 0.]\n",
      " [0. 1. 1.]\n",
      " [0. 0. 0.]\n",
      " ...\n",
      " [0. 0. 1.]\n",
      " [0. 0. 1.]\n",
      " [0. 0. 0.]]\n"
     ]
    }
   ],
   "source": [
    "y_pred = model_4_fast_text.predict(test_description_padded, batch_size=64)\n",
    "y_class = prob_to_class(y_pred)\n",
    "print(y_class)"
   ]
  },
  {
   "cell_type": "code",
   "execution_count": 40,
   "id": "723bdfff-5ea5-4622-8361-0b16f16d0c9d",
   "metadata": {},
   "outputs": [
    {
     "name": "stdout",
     "output_type": "stream",
     "text": [
      "Hamming Loss: 0.16280496\n",
      "hamming score: 0.8371950387954712\n"
     ]
    }
   ],
   "source": [
    "import tensorflow as tf\n",
    "\n",
    "# Defining hamming loss\n",
    "def f1_score(y_true, y_pred, threshold=0.5):\n",
    "    y_true = tf.cast(y_true, tf.float32)\n",
    "    y_pred = tf.cast(tf.math.greater(y_pred, threshold), tf.float32)\n",
    "    global true_positives\n",
    "    true_positives = tf.reduce_sum(tf.cast(tf.math.logical_and(tf.equal(y_true, 1), tf.equal(y_pred, 1)), tf.float32), axis=0)\n",
    "    global predicted_positives\n",
    "    predicted_positives = tf.reduce_sum(y_pred, axis=0)\n",
    "    global actual_positives\n",
    "    actual_positives = tf.reduce_sum(y_true, axis=0)\n",
    "    global precision\n",
    "    precision = true_positives / (predicted_positives + tf.keras.backend.epsilon())\n",
    "    global recall\n",
    "    recall = true_positives / (actual_positives + tf.keras.backend.epsilon())\n",
    "    global f1\n",
    "    f1 = 2 * precision * recall / (precision + recall + tf.keras.backend.epsilon())\n",
    "    return tf.reduce_mean(f1)\n",
    "\n",
    "def hamming_loss(y_true, y_pred, threshold=0.5):\n",
    "    y_pred = tf.cast(tf.math.greater(y_pred, threshold), tf.float32)\n",
    "    global hamming_losss\n",
    "    hamming_losss = 1 - tf.reduce_mean(tf.reduce_mean(tf.cast(tf.equal(y_true, y_pred), tf.float32), axis=1))\n",
    "    return hamming_losss\n",
    "\n",
    "# Assuming y_test and y_pred are defined\n",
    "# Compute F1 Score and Hamming Loss\n",
    "f1_score_value = f1_score(y_test, y_pred)\n",
    "hamming_loss_value = hamming_loss(y_test, y_pred)\n",
    "\n",
    "# Print the results\n",
    "print('Hamming Loss:', hamming_loss_value.numpy())\n",
    "print('hamming score:',1-hamming_loss_value.numpy())"
   ]
  },
  {
   "cell_type": "code",
   "execution_count": 42,
   "id": "db7607a4-ca0b-45bc-ba24-40f5fb5b66c8",
   "metadata": {},
   "outputs": [
    {
     "name": "stdout",
     "output_type": "stream",
     "text": [
      "\u001b[1m1/1\u001b[0m \u001b[32m━━━━━━━━━━━━━━━━━━━━\u001b[0m\u001b[37m\u001b[0m \u001b[1m0s\u001b[0m 34ms/step\n",
      "Predicted probabilities for custom input:\n",
      "[[0.2775726  0.21169014 0.9454461 ]]\n",
      "Predicted class labels for custom input:\n",
      "[[0. 0. 1.]]\n"
     ]
    }
   ],
   "source": [
    "# Example of custom input\n",
    "custom_input_text = [\"touching\"]\n",
    "\n",
    "custom_input_sequences = tokenizer.texts_to_sequences(custom_input_text)\n",
    "custom_input_padded = pad_sequences(custom_input_sequences, maxlen=300, dtype='int32', padding='post', truncating='post')\n",
    "\n",
    "\n",
    "custom_predictions = model_4_fast_text.predict(custom_input_padded)\n",
    "\n",
    "custom_class_labels = prob_to_class(custom_predictions)\n",
    "\n",
    "print(\"Predicted probabilities for custom input:\")\n",
    "print(custom_predictions)\n",
    "print(\"Predicted class labels for custom input:\")\n",
    "print(custom_class_labels)"
   ]
  }
 ],
 "metadata": {
  "kernelspec": {
   "display_name": "Python 3 (ipykernel)",
   "language": "python",
   "name": "python3"
  },
  "language_info": {
   "codemirror_mode": {
    "name": "ipython",
    "version": 3
   },
   "file_extension": ".py",
   "mimetype": "text/x-python",
   "name": "python",
   "nbconvert_exporter": "python",
   "pygments_lexer": "ipython3",
   "version": "3.11.3"
  }
 },
 "nbformat": 4,
 "nbformat_minor": 5
}
